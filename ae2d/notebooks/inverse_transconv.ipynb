{
 "cells": [
  {
   "cell_type": "code",
   "execution_count": 7,
   "id": "92764539-bf06-46fe-b2b8-6c9666f2ce41",
   "metadata": {},
   "outputs": [
    {
     "data": {
      "text/plain": [
       "tensor([[[[ 0.,  0.,  4.,  1.],\n",
       "          [ 0.,  0.,  2.,  3.],\n",
       "          [ 8.,  2., 12.,  3.],\n",
       "          [ 4.,  6.,  6.,  9.]]]], grad_fn=<ConvolutionBackward0>)"
      ]
     },
     "execution_count": 7,
     "metadata": {},
     "output_type": "execute_result"
    }
   ],
   "source": [
    "# Import the necessary module\n",
    "import torch\n",
    "from torch import nn\n",
    "import matplotlib.pyplot as plt\n",
    " \n",
    "# Input\n",
    "Input = torch.tensor([[0.0, 1.0], [2.0, 3.0]])\n",
    "#Kernel\n",
    "Kernel = torch.tensor([[4.0, 1.0], [2.0, 3.0]])\n",
    " \n",
    "# Redefine the shape in 4 dimension\n",
    "Input = Input.reshape(1, 1, 2, 2)\n",
    "Kernel = Kernel.reshape(1, 1, 2, 2)\n",
    " \n",
    "# Transpose convolution Layer\n",
    "Transpose = nn.ConvTranspose2d(in_channels =1,\n",
    "                               out_channels =1,\n",
    "                               kernel_size=2,\n",
    "                               stride = 2,\n",
    "                               padding=0,\n",
    "                               bias=False)\n",
    " \n",
    "# Initialize Kernel\n",
    "Transpose.weight.data = Kernel\n",
    "# Output value\n",
    "Transpose(Input)"
   ]
  },
  {
   "cell_type": "code",
   "execution_count": 36,
   "id": "3459f8fb-1fd0-4e3c-b5dc-b6e6e738e4fa",
   "metadata": {},
   "outputs": [
    {
     "name": "stdout",
     "output_type": "stream",
     "text": [
      "torch.Size([1, 1, 16, 16])\n"
     ]
    }
   ],
   "source": [
    "# # Input\n",
    "# Input = torch.tensor([[0.0, 1.0], [2.0, 3.0]])\n",
    "\n",
    "# Kernel\n",
    "Kernel = torch.tensor([[.2, .5, .2], \n",
    "                       [.5, 1., .5],\n",
    "                       [.2, .5, .2]])\n",
    " \n",
    "# Redefine the shape in 4 dimension\n",
    "side = 16\n",
    "Input = torch.arange(side * side, dtype=torch.float).reshape(1, 1, side, side)\n",
    "Input = torch.randint(0, 2, size=(side, side), dtype=torch.float).reshape(1, 1, side, side)\n",
    "\n",
    "\n",
    "Kernel = Kernel.reshape(1, 1, 3, 3)\n",
    " \n",
    "# Transpose convolution Layer\n",
    "Transpose = nn.ConvTranspose2d(in_channels =1,\n",
    "                               out_channels =1,\n",
    "                               kernel_size=3,\n",
    "                               stride = 1,\n",
    "                               padding = 1,\n",
    "                               bias = False)\n",
    " \n",
    "# Initialize Kernel\n",
    "Transpose.weight.data = Kernel\n",
    "# Output value\n",
    "Output = Transpose(Input)\n",
    "print(Output.shape)"
   ]
  },
  {
   "cell_type": "code",
   "execution_count": 37,
   "id": "83bf5a43-8f4f-4e96-a7d0-51f6075bc262",
   "metadata": {},
   "outputs": [
    {
     "data": {
      "text/plain": [
       "<matplotlib.image.AxesImage at 0x7fe6b2418c40>"
      ]
     },
     "execution_count": 37,
     "metadata": {},
     "output_type": "execute_result"
    },
    {
     "data": {
      "image/png": "[encoded data removed]",
      "text/plain": [
       "<Figure size 432x288 with 1 Axes>"
      ]
     },
     "metadata": {
      "needs_background": "light"
     },
     "output_type": "display_data"
    }
   ],
   "source": [
    "plt.imshow(Input.squeeze().numpy())"
   ]
  },
  {
   "cell_type": "code",
   "execution_count": 38,
   "id": "0eb2975c-c430-4127-b1f7-f855ca6dcd38",
   "metadata": {},
   "outputs": [
    {
     "data": {
      "text/plain": [
       "<matplotlib.image.AxesImage at 0x7fe6b2387760>"
      ]
     },
     "execution_count": 38,
     "metadata": {},
     "output_type": "execute_result"
    },
    {
     "data": {
      "image/png": "[encoded data removed]",
      "text/plain": [
       "<Figure size 432x288 with 1 Axes>"
      ]
     },
     "metadata": {
      "needs_background": "light"
     },
     "output_type": "display_data"
    }
   ],
   "source": [
    "plt.imshow(Output.detach().squeeze().numpy())"
   ]
  },
  {
   "cell_type": "code",
   "execution_count": 21,
   "id": "48e9e7e7-55b9-4d8a-9c40-114f32281b82",
   "metadata": {},
   "outputs": [
    {
     "data": {
      "text/plain": [
       "tensor([[[[ 4.2000,  7.4000, 10.3000, 13.2000, 11.6000],\n",
       "          [15.4000, 22.8000, 26.6000, 30.4000, 25.2000],\n",
       "          [29.9000, 41.8000, 45.6000, 49.4000, 39.7000],\n",
       "          [44.4000, 60.8000, 64.6000, 68.4000, 54.2000],\n",
       "          [41.2000, 56.4000, 59.3000, 62.2000, 48.6000]]]],\n",
       "       grad_fn=<ConvolutionBackward0>)"
      ]
     },
     "execution_count": 21,
     "metadata": {},
     "output_type": "execute_result"
    }
   ],
   "source": [
    "Output"
   ]
  },
  {
   "cell_type": "code",
   "execution_count": null,
   "id": "3707f8ac-2b35-4c4d-8ce9-fd5a98c2cce1",
   "metadata": {},
   "outputs": [],
   "source": []
  }
 ],
 "metadata": {
  "kernelspec": {
   "display_name": "Python 3 (ipykernel)",
   "language": "python",
   "name": "python3"
  },
  "language_info": {
   "codemirror_mode": {
    "name": "ipython",
    "version": 3
   },
   "file_extension": ".py",
   "mimetype": "text/x-python",
   "name": "python",
   "nbconvert_exporter": "python",
   "pygments_lexer": "ipython3",
   "version": "3.9.4"
  }
 },
 "nbformat": 4,
 "nbformat_minor": 5
}
